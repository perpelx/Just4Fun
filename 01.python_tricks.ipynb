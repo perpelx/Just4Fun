{
 "cells": [
  {
   "cell_type": "markdown",
   "metadata": {},
   "source": [
    "### 1.数据结构与算法进阶训练"
   ]
  },
  {
   "cell_type": "markdown",
   "metadata": {},
   "source": [
    "1-1 列表,字典的数据筛选\n",
    "\n",
    "1-2 为元组中的每个元素命名, 提高程序可读性\n",
    "\n",
    "1-3 统计序列中元素的出现频度\n",
    "\n",
    "1-4 字典排序\n",
    "\n",
    "1-5 快速找到多个字典中的公共键(key) \n",
    "\n",
    "1-6 字典保持有序\n",
    "\n",
    "1-7 实现用户的历史记录功能"
   ]
  },
  {
   "cell_type": "code",
   "execution_count": 1,
   "metadata": {},
   "outputs": [],
   "source": [
    "from random import randint,sample"
   ]
  },
  {
   "cell_type": "markdown",
   "metadata": {},
   "source": [
    "1-1 列表,字典，集合的数据筛选"
   ]
  },
  {
   "cell_type": "code",
   "execution_count": 2,
   "metadata": {},
   "outputs": [
    {
     "data": {
      "text/plain": [
       "[-1, -6, 8, 2, -1, -8, 1, 0, 6, 2]"
      ]
     },
     "execution_count": 2,
     "metadata": {},
     "output_type": "execute_result"
    }
   ],
   "source": [
    "data1 = [randint(-10,10) for _ in range(10)]\n",
    "data1"
   ]
  },
  {
   "cell_type": "code",
   "execution_count": 3,
   "metadata": {},
   "outputs": [
    {
     "data": {
      "text/plain": [
       "{-8, -6, -1, 0, 1, 2, 6, 8}"
      ]
     },
     "execution_count": 3,
     "metadata": {},
     "output_type": "execute_result"
    }
   ],
   "source": [
    "data = set(data1)\n",
    "data"
   ]
  },
  {
   "cell_type": "code",
   "execution_count": 4,
   "metadata": {},
   "outputs": [
    {
     "data": {
      "text/plain": [
       "{1: 73,\n",
       " 2: 13,\n",
       " 3: 67,\n",
       " 4: 41,\n",
       " 5: 21,\n",
       " 6: 53,\n",
       " 7: 88,\n",
       " 8: 66,\n",
       " 9: 92,\n",
       " 10: 81,\n",
       " 11: 63,\n",
       " 12: 32,\n",
       " 13: 83,\n",
       " 14: 32,\n",
       " 15: 23,\n",
       " 16: 66,\n",
       " 17: 43,\n",
       " 18: 56,\n",
       " 19: 45,\n",
       " 20: 29}"
      ]
     },
     "execution_count": 4,
     "metadata": {},
     "output_type": "execute_result"
    }
   ],
   "source": [
    "data2 = { x:randint(10,100) for x in range(1,21)}\n",
    "data2"
   ]
  },
  {
   "cell_type": "code",
   "execution_count": 5,
   "metadata": {
    "scrolled": true
   },
   "outputs": [
    {
     "name": "stdout",
     "output_type": "stream",
     "text": [
      "The slowest run took 6.79 times longer than the fastest. This could mean that an intermediate result is being cached.\n",
      "1000000 loops, best of 3: 601 ns per loop\n"
     ]
    }
   ],
   "source": [
    "timeit re = [x for x in data1 if x>=0 ]"
   ]
  },
  {
   "cell_type": "code",
   "execution_count": 6,
   "metadata": {},
   "outputs": [
    {
     "name": "stdout",
     "output_type": "stream",
     "text": [
      "1000000 loops, best of 3: 1.66 µs per loop\n"
     ]
    }
   ],
   "source": [
    "timeit re = [x for x in filter(lambda x:x>=0, data1)]# p3生成的是生成器，所以更快"
   ]
  },
  {
   "cell_type": "code",
   "execution_count": 7,
   "metadata": {},
   "outputs": [
    {
     "data": {
      "text/plain": [
       "{0, 1, 2, 6, 8}"
      ]
     },
     "execution_count": 7,
     "metadata": {},
     "output_type": "execute_result"
    }
   ],
   "source": [
    "{x for x in data if x>=0}"
   ]
  },
  {
   "cell_type": "code",
   "execution_count": 8,
   "metadata": {},
   "outputs": [
    {
     "data": {
      "text/plain": [
       "{9: 92}"
      ]
     },
     "execution_count": 8,
     "metadata": {},
     "output_type": "execute_result"
    }
   ],
   "source": [
    "{ k:v for k,v in data2.items() if v>90}"
   ]
  },
  {
   "cell_type": "markdown",
   "metadata": {},
   "source": [
    "1-2 为元组中的每个元素命名, 提高程序可读性\n",
    "方案1：类似枚举的类型，利用变量的名字来访问，列表拆包的模式\n",
    "方案2：用collections的namedtuple"
   ]
  },
  {
   "cell_type": "code",
   "execution_count": 9,
   "metadata": {},
   "outputs": [],
   "source": [
    "from collections import namedtuple"
   ]
  },
  {
   "cell_type": "code",
   "execution_count": 10,
   "metadata": {},
   "outputs": [],
   "source": [
    "student = namedtuple('student',['name','age','sex','email'])"
   ]
  },
  {
   "cell_type": "code",
   "execution_count": 11,
   "metadata": {},
   "outputs": [],
   "source": [
    "s = student('jim',16,'male','jim1212@139.com')"
   ]
  },
  {
   "cell_type": "code",
   "execution_count": 12,
   "metadata": {},
   "outputs": [
    {
     "data": {
      "text/plain": [
       "True"
      ]
     },
     "execution_count": 12,
     "metadata": {},
     "output_type": "execute_result"
    }
   ],
   "source": [
    "isinstance(s,tuple)"
   ]
  },
  {
   "cell_type": "markdown",
   "metadata": {},
   "source": [
    "1-3 统计序列中元素的出现频度\n",
    "用collections下的counter"
   ]
  },
  {
   "cell_type": "code",
   "execution_count": 13,
   "metadata": {},
   "outputs": [],
   "source": [
    "from collections import Counter"
   ]
  },
  {
   "cell_type": "code",
   "execution_count": 14,
   "metadata": {},
   "outputs": [
    {
     "data": {
      "text/plain": [
       "[8,\n",
       " 15,\n",
       " 17,\n",
       " 9,\n",
       " 20,\n",
       " 14,\n",
       " 17,\n",
       " 13,\n",
       " 7,\n",
       " 19,\n",
       " 14,\n",
       " 0,\n",
       " 0,\n",
       " 3,\n",
       " 19,\n",
       " 16,\n",
       " 6,\n",
       " 3,\n",
       " 19,\n",
       " 1,\n",
       " 10,\n",
       " 20,\n",
       " 19,\n",
       " 20,\n",
       " 0,\n",
       " 7,\n",
       " 2,\n",
       " 10,\n",
       " 0,\n",
       " 8]"
      ]
     },
     "execution_count": 14,
     "metadata": {},
     "output_type": "execute_result"
    }
   ],
   "source": [
    "data3 = [randint(0,20) for _ in range(30)]\n",
    "data3"
   ]
  },
  {
   "cell_type": "code",
   "execution_count": 15,
   "metadata": {},
   "outputs": [
    {
     "data": {
      "text/plain": [
       "{-8: 0, -6: 0, -1: 0, 0: 0, 1: 0, 2: 0, 6: 0, 8: 0}"
      ]
     },
     "execution_count": 15,
     "metadata": {},
     "output_type": "execute_result"
    }
   ],
   "source": [
    "c1 = dict.fromkeys(data,0)# key是元素，0是init初始数量\n",
    "c1"
   ]
  },
  {
   "cell_type": "code",
   "execution_count": 16,
   "metadata": {
    "scrolled": true
   },
   "outputs": [
    {
     "data": {
      "text/plain": [
       "Counter({0: 4,\n",
       "         1: 1,\n",
       "         2: 1,\n",
       "         3: 2,\n",
       "         6: 1,\n",
       "         7: 2,\n",
       "         8: 2,\n",
       "         9: 1,\n",
       "         10: 2,\n",
       "         13: 1,\n",
       "         14: 2,\n",
       "         15: 1,\n",
       "         16: 1,\n",
       "         17: 2,\n",
       "         19: 4,\n",
       "         20: 3})"
      ]
     },
     "execution_count": 16,
     "metadata": {},
     "output_type": "execute_result"
    }
   ],
   "source": [
    "c2 = Counter(data3) #和c1一样类似,但可以显示数量\n",
    "c2"
   ]
  },
  {
   "cell_type": "markdown",
   "metadata": {},
   "source": [
    "1-4 字典排序\n",
    "sorted函数实现"
   ]
  },
  {
   "cell_type": "code",
   "execution_count": 17,
   "metadata": {},
   "outputs": [
    {
     "data": {
      "text/plain": [
       "{'a': 94, 'b': 68, 'c': 63, 'd': 67, 'e': 69, 'f': 78, 'g': 100}"
      ]
     },
     "execution_count": 17,
     "metadata": {},
     "output_type": "execute_result"
    }
   ],
   "source": [
    "data4 = { x: randint(60,100) for x in 'abcdefg'}\n",
    "data4"
   ]
  },
  {
   "cell_type": "code",
   "execution_count": 18,
   "metadata": {
    "scrolled": true
   },
   "outputs": [
    {
     "data": {
      "text/plain": [
       "[(63, 'c'), (67, 'd'), (68, 'b'), (69, 'e'), (78, 'f'), (94, 'a'), (100, 'g')]"
      ]
     },
     "execution_count": 18,
     "metadata": {},
     "output_type": "execute_result"
    }
   ],
   "source": [
    "sorted(zip(data4.values(),data4.keys()))"
   ]
  },
  {
   "cell_type": "code",
   "execution_count": 19,
   "metadata": {},
   "outputs": [
    {
     "data": {
      "text/plain": [
       "[('c', 63), ('d', 67), ('b', 68), ('e', 69), ('f', 78), ('a', 94), ('g', 100)]"
      ]
     },
     "execution_count": 19,
     "metadata": {},
     "output_type": "execute_result"
    }
   ],
   "source": [
    "sorted(data4.items(), key = lambda x:x[1])"
   ]
  },
  {
   "cell_type": "markdown",
   "metadata": {},
   "source": [
    "1-5 快速找到多个字典中的公共键(key) "
   ]
  },
  {
   "cell_type": "code",
   "execution_count": 20,
   "metadata": {},
   "outputs": [
    {
     "data": {
      "text/plain": [
       "({'a': 3, 'b': 2, 'c': 1, 'd': 3, 'e': 4, 'f': 1, 'g': 3},\n",
       " {'a': 1, 'c': 4, 'd': 1, 'e': 2},\n",
       " {'a': 1, 'b': 4, 'c': 1, 'd': 3, 'e': 4, 'f': 3, 'g': 1},\n",
       " {'a': 1, 'c': 3, 'd': 3, 'f': 1})"
      ]
     },
     "execution_count": 20,
     "metadata": {},
     "output_type": "execute_result"
    }
   ],
   "source": [
    "s1 = { x: randint(1,4) for x in sample('abcdefg',randint(3,7))}\n",
    "s2 = { x: randint(1,4) for x in sample('abcdefg',randint(3,7))}\n",
    "s3 = { x: randint(1,4) for x in sample('abcdefg',randint(3,7))}\n",
    "s4 = { x: randint(1,4) for x in sample('abcdefg',randint(3,7))}\n",
    "s1,s2,s3,s4"
   ]
  },
  {
   "cell_type": "code",
   "execution_count": 21,
   "metadata": {},
   "outputs": [
    {
     "data": {
      "text/plain": [
       "{'a', 'c', 'd'}"
      ]
     },
     "execution_count": 21,
     "metadata": {},
     "output_type": "execute_result"
    }
   ],
   "source": [
    "s1.keys() & s2.keys()& s3.keys() & s4.keys() # dict.keys() 类型是集合"
   ]
  },
  {
   "cell_type": "code",
   "execution_count": 22,
   "metadata": {},
   "outputs": [],
   "source": [
    "from functools import reduce"
   ]
  },
  {
   "cell_type": "code",
   "execution_count": 23,
   "metadata": {},
   "outputs": [
    {
     "data": {
      "text/plain": [
       "{'a', 'c', 'd'}"
      ]
     },
     "execution_count": 23,
     "metadata": {},
     "output_type": "execute_result"
    }
   ],
   "source": [
    "reduce (lambda a,b: a & b, map(dict.keys,[s1,s2,s3,s4]))"
   ]
  },
  {
   "cell_type": "markdown",
   "metadata": {},
   "source": [
    "1-6 字典保持有序\n",
    "orderedDict"
   ]
  },
  {
   "cell_type": "code",
   "execution_count": 24,
   "metadata": {},
   "outputs": [
    {
     "data": {
      "text/plain": [
       "{'bob': (3, 40), 'jim': (1, 35), 'leo': (2, 37)}"
      ]
     },
     "execution_count": 24,
     "metadata": {},
     "output_type": "execute_result"
    }
   ],
   "source": [
    "d1 = {}\n",
    "d1['jim'] = (1,35)\n",
    "d1['leo'] = (2,37)\n",
    "d1['bob'] = (3,40)\n",
    "d1"
   ]
  },
  {
   "cell_type": "code",
   "execution_count": 25,
   "metadata": {},
   "outputs": [],
   "source": [
    "from collections import OrderedDict"
   ]
  },
  {
   "cell_type": "code",
   "execution_count": 26,
   "metadata": {},
   "outputs": [
    {
     "data": {
      "text/plain": [
       "OrderedDict([('jim', (1, 35)), ('leo', (2, 37)), ('bob', (3, 40))])"
      ]
     },
     "execution_count": 26,
     "metadata": {},
     "output_type": "execute_result"
    }
   ],
   "source": [
    "d2 = OrderedDict()\n",
    "d2['jim'] = (1,35)\n",
    "d2['leo'] = (2,37)\n",
    "d2['bob'] = (3,40)\n",
    "d2"
   ]
  },
  {
   "cell_type": "markdown",
   "metadata": {
    "collapsed": true
   },
   "source": [
    "1-7 实现用户的历史记录功能"
   ]
  },
  {
   "cell_type": "code",
   "execution_count": 27,
   "metadata": {},
   "outputs": [],
   "source": [
    "from collections import deque\n",
    "import pickle #存储和读取对象"
   ]
  },
  {
   "cell_type": "code",
   "execution_count": 28,
   "metadata": {},
   "outputs": [],
   "source": [
    "dq = deque([],5)"
   ]
  },
  {
   "cell_type": "code",
   "execution_count": 29,
   "metadata": {
    "scrolled": true
   },
   "outputs": [
    {
     "name": "stdout",
     "output_type": "stream",
     "text": [
      "deque([1], maxlen=5)\n",
      "deque([1, 2], maxlen=5)\n",
      "deque([1, 2, 3], maxlen=5)\n",
      "deque([1, 2, 3, 4], maxlen=5)\n",
      "deque([1, 2, 3, 4, 5], maxlen=5)\n",
      "deque([2, 3, 4, 5, 6], maxlen=5)\n",
      "deque([3, 4, 5, 6, 7], maxlen=5)\n",
      "deque([4, 5, 6, 7, 8], maxlen=5)\n",
      "deque([5, 6, 7, 8, 9], maxlen=5)\n"
     ]
    }
   ],
   "source": [
    "for x in range(1,10):\n",
    "    dq.append(x)\n",
    "    print(dq)"
   ]
  },
  {
   "cell_type": "markdown",
   "metadata": {},
   "source": [
    "### 2.对象迭代与反迭代技巧训练"
   ]
  },
  {
   "cell_type": "markdown",
   "metadata": {},
   "source": [
    "2-1 实现可迭代对象、迭代器对象和生成器函数实现可迭代对象\n",
    "\n",
    "2-2 反向迭代以及实现\n",
    "\n",
    "2-3 迭代器的切片:from itertools import islice # islice 会消耗迭代器\n",
    "\n",
    "2-5 并行/串行迭代多个可迭代对象: zip/chain"
   ]
  },
  {
   "cell_type": "code",
   "execution_count": 39,
   "metadata": {},
   "outputs": [],
   "source": [
    "class FibIteritor():\n",
    "    def __init__(self,n):\n",
    "        self.n = n\n",
    "        self.index = 0\n",
    "        self.a = 0\n",
    "        self.b = 1\n",
    "        \n",
    "    def __iter__(self):# 可迭代对象可以和迭代器分开，返回迭代器\n",
    "        return self\n",
    "    \n",
    "    def __next__(self):\n",
    "        if self.index < self.n:\n",
    "            self.a, self.b = self.b, self.a + self.b\n",
    "            self.index += 1\n",
    "            return self.a\n",
    "        else:\n",
    "            raise StopIteration"
   ]
  },
  {
   "cell_type": "code",
   "execution_count": 68,
   "metadata": {},
   "outputs": [],
   "source": [
    "class FibGenerator():\n",
    "    def __init__(self,n):\n",
    "        self.n = n\n",
    "        self.index = 0\n",
    "        self.a = 0\n",
    "        self.b = 1\n",
    "        \n",
    "    def __iter__(self): # 生成器要直接在__iter___里面用for循环+yield实现\n",
    "        for _ in range(self.n):\n",
    "            self.a, self.b = self.b, self.a + self.b\n",
    "            self.index += 1\n",
    "            yield self.a"
   ]
  },
  {
   "cell_type": "code",
   "execution_count": 75,
   "metadata": {},
   "outputs": [],
   "source": [
    "class FloatRange:\n",
    "    def __init__(self,start,end,step=0.1):\n",
    "        self.start = start\n",
    "        self.end = end\n",
    "        self.step = step\n",
    "        \n",
    "    def __iter__(self):\n",
    "        t= self.start\n",
    "        while t <= self.end:\n",
    "            yield t\n",
    "            t += self.step\n",
    "            \n",
    "    def __reversed__(self):\n",
    "        t = self.end\n",
    "        while t>=self.start:\n",
    "            yield t\n",
    "            t -= self.step"
   ]
  },
  {
   "cell_type": "markdown",
   "metadata": {},
   "source": [
    "### 3.字符串处理技巧训练"
   ]
  },
  {
   "cell_type": "markdown",
   "metadata": {},
   "source": [
    "3-1 含有多种分隔符的字符串:str.split/re.split('[,.|]+',s) 利用正则表达式\n",
    "\n",
    "3-2 判断字符串开头或结尾:str.startwith()/str.endwith()\n",
    "\n",
    "3-3 调整字符串中文本的格式:re.sub()\n",
    "                       \n",
    "3-4 将多个小字符串拼接成一个大的字符串:+/''.join(list)/';'.join(list) 其中list可以是生成器表达式\n",
    "\n",
    "3-5 对字符串进行左, 右, 居中对齐：str.ljust/rjust/center或format(s,'<20')/format(s,'^20')\n",
    "\n",
    "3-6 去掉字符串中不需要的字符:str.strip /str.lstrip 或切片拼接或者re.sub /str.replace/translate(str.maketrans(str1,str2))"
   ]
  },
  {
   "cell_type": "code",
   "execution_count": 83,
   "metadata": {},
   "outputs": [],
   "source": [
    "s = 'it was happened in 1990-01-11'"
   ]
  },
  {
   "cell_type": "code",
   "execution_count": 88,
   "metadata": {},
   "outputs": [
    {
     "data": {
      "text/plain": [
       "'it was happened in 01/11/1990'"
      ]
     },
     "execution_count": 88,
     "metadata": {},
     "output_type": "execute_result"
    }
   ],
   "source": [
    "s1 = re.sub('(\\d{4})-(\\d{2})-(\\d{2})', r'\\2/\\3/\\1',s)\n",
    "s1"
   ]
  },
  {
   "cell_type": "code",
   "execution_count": 92,
   "metadata": {},
   "outputs": [
    {
     "data": {
      "text/plain": [
       "'it was happened in 01/11/1990'"
      ]
     },
     "execution_count": 92,
     "metadata": {},
     "output_type": "execute_result"
    }
   ],
   "source": [
    "s2 = re.sub('(?P<year>\\d{4})-(?P<month>\\d{2})-(?P<day>\\d{2})',r'\\g<month>/\\g<day>/\\g<year>',s)\n",
    "s2"
   ]
  },
  {
   "cell_type": "markdown",
   "metadata": {},
   "source": [
    "### 4.文件I/O高效处理技巧训练"
   ]
  },
  {
   "cell_type": "markdown",
   "metadata": {},
   "source": [
    "4-1 读写文本文件：python2: str->Unicode;python 3: bytes->Unicode\n",
    "\n",
    "4-2 处理二进制文件\n",
    "\n",
    "4-3 设置文件的缓冲： open(buffering =)\n",
    "\n",
    "4-4 将文件映射到内存: mmap.mmap(与平台有关）还可以用来实现进程间的通信\n",
    "\n",
    "4-5 访问文件的状态:os.stat(path)/os.lstat(不跟随符号链接的path)/os.fstat(打开的文件描述符）或者 用os.path下的快捷函数\n",
    "\n",
    "4-6 使用临时文件"
   ]
  },
  {
   "cell_type": "code",
   "execution_count": 8,
   "metadata": {},
   "outputs": [],
   "source": [
    "from tempfile import TemporaryFile, NamedTemporaryFile"
   ]
  },
  {
   "cell_type": "markdown",
   "metadata": {},
   "source": [
    "### 5.csv/json/xml/excel高效解析与构建技巧训练"
   ]
  },
  {
   "cell_type": "markdown",
   "metadata": {},
   "source": [
    "### 6.类与对象深度技术进阶训练"
   ]
  },
  {
   "cell_type": "markdown",
   "metadata": {},
   "source": [
    "6-1 如何派生内置不可变类型并修其改实例化行为 ；\n",
    "\n",
    "6-2 如何为创建大量实例节省内存 ；\n",
    "\n",
    "6-3 如何让对象支持上下文管理；\n",
    "\n",
    "6-4 如何创建可管理的对象属性；\n",
    "\n",
    "6-5 如何让类支持比较操作 ；\n",
    "\n",
    "6-6 如何使用描述符对实例属性做类型检查 ；\n",
    "\n",
    "6-7 如何在环状数据结构中管理内存 ；\n",
    "\n",
    "6-8 如何通过..."
   ]
  },
  {
   "cell_type": "markdown",
   "metadata": {},
   "source": [
    "### 7.多线程编程核心技术应用进阶训练"
   ]
  },
  {
   "cell_type": "markdown",
   "metadata": {},
   "source": [
    "7-1 如何使用多线程；\n",
    "\n",
    "7-2 如何线程间通信；\n",
    "\n",
    "7-3 如何在线程间进行事件通知；\n",
    "\n",
    "7-4 如何使用线程本地数据 ；\n",
    "\n",
    "7-5 如何使用线程池；\n",
    "\n",
    "7-6 如何使用多进程..."
   ]
  },
  {
   "cell_type": "markdown",
   "metadata": {},
   "source": [
    "### 8.装饰器使用技巧进阶训练"
   ]
  },
  {
   "cell_type": "markdown",
   "metadata": {},
   "source": [
    "8-1 使用函数装饰器\n",
    "\n",
    "8-2 为被装饰的函数保存元数据\n",
    "\n",
    "8-3 定义带参数的装饰器\n",
    "\n",
    "8-4 实现属性可修改的函数装饰器\n",
    "\n",
    "8-5 类中定义装饰器\n",
    "\n",
    "8-6 装饰器定义成类"
   ]
  }
 ],
 "metadata": {
  "kernelspec": {
   "display_name": "Python 3",
   "language": "python",
   "name": "python3"
  },
  "language_info": {
   "codemirror_mode": {
    "name": "ipython",
    "version": 3
   },
   "file_extension": ".py",
   "mimetype": "text/x-python",
   "name": "python",
   "nbconvert_exporter": "python",
   "pygments_lexer": "ipython3",
   "version": "3.7.4"
  }
 },
 "nbformat": 4,
 "nbformat_minor": 2
}
