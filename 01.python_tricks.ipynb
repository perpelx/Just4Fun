{
 "cells": [
  {
   "cell_type": "markdown",
   "metadata": {},
   "source": [
    "### 1.数据结构与算法进阶训练"
   ]
  },
  {
   "cell_type": "markdown",
   "metadata": {},
   "source": [
    "1-1 列表,字典的数据筛选\n",
    "\n",
    "1-2 为元组中的每个元素命名, 提高程序可读性\n",
    "\n",
    "1-3 统计序列中元素的出现频度\n",
    "\n",
    "1-4 字典排序\n",
    "\n",
    "1-5 快速找到多个字典中的公共键(key) \n",
    "\n",
    "1-6 字典保持有序\n",
    "\n",
    "1-7 实现用户的历史记录功能"
   ]
  },
  {
   "cell_type": "code",
   "execution_count": 134,
   "metadata": {
    "collapsed": true
   },
   "outputs": [],
   "source": [
    "from random import randint,sample"
   ]
  },
  {
   "cell_type": "markdown",
   "metadata": {},
   "source": [
    "1-1 列表,字典，集合的数据筛选"
   ]
  },
  {
   "cell_type": "code",
   "execution_count": 59,
   "metadata": {},
   "outputs": [
    {
     "data": {
      "text/plain": [
       "[-5, 8, -10, -4, -4, 1, 1, -7, -4, -5]"
      ]
     },
     "execution_count": 59,
     "metadata": {},
     "output_type": "execute_result"
    }
   ],
   "source": [
    "data1 = [randint(-10,10) for _ in range(10)]\n",
    "data1"
   ]
  },
  {
   "cell_type": "code",
   "execution_count": 91,
   "metadata": {},
   "outputs": [
    {
     "data": {
      "text/plain": [
       "{-10, -7, -5, -4, 1, 8}"
      ]
     },
     "execution_count": 91,
     "metadata": {},
     "output_type": "execute_result"
    }
   ],
   "source": [
    "data = set(data1)\n",
    "data"
   ]
  },
  {
   "cell_type": "code",
   "execution_count": 60,
   "metadata": {},
   "outputs": [
    {
     "data": {
      "text/plain": [
       "{1: 41,\n",
       " 2: 79,\n",
       " 3: 66,\n",
       " 4: 66,\n",
       " 5: 61,\n",
       " 6: 95,\n",
       " 7: 62,\n",
       " 8: 89,\n",
       " 9: 65,\n",
       " 10: 86,\n",
       " 11: 18,\n",
       " 12: 87,\n",
       " 13: 82,\n",
       " 14: 80,\n",
       " 15: 93,\n",
       " 16: 60,\n",
       " 17: 85,\n",
       " 18: 96,\n",
       " 19: 10,\n",
       " 20: 43}"
      ]
     },
     "execution_count": 60,
     "metadata": {},
     "output_type": "execute_result"
    }
   ],
   "source": [
    "data2 = { x:randint(10,100) for x in range(1,21)}\n",
    "data2"
   ]
  },
  {
   "cell_type": "code",
   "execution_count": 92,
   "metadata": {
    "scrolled": true
   },
   "outputs": [
    {
     "name": "stdout",
     "output_type": "stream",
     "text": [
      "1.46 µs ± 159 ns per loop (mean ± std. dev. of 7 runs, 100000 loops each)\n"
     ]
    }
   ],
   "source": [
    "timeit re = [x for x in data1 if x>=0 ]"
   ]
  },
  {
   "cell_type": "code",
   "execution_count": 93,
   "metadata": {},
   "outputs": [
    {
     "name": "stdout",
     "output_type": "stream",
     "text": [
      "3.98 µs ± 513 ns per loop (mean ± std. dev. of 7 runs, 100000 loops each)\n"
     ]
    }
   ],
   "source": [
    "timeit re = [x for x in filter(lambda x:x>=0, data1)]# p3生成的是生成器，所以更快"
   ]
  },
  {
   "cell_type": "code",
   "execution_count": 94,
   "metadata": {},
   "outputs": [
    {
     "data": {
      "text/plain": [
       "{1, 8}"
      ]
     },
     "execution_count": 94,
     "metadata": {},
     "output_type": "execute_result"
    }
   ],
   "source": [
    "{x for x in data if x>=0}"
   ]
  },
  {
   "cell_type": "code",
   "execution_count": 63,
   "metadata": {},
   "outputs": [
    {
     "data": {
      "text/plain": [
       "{6: 95, 15: 93, 18: 96}"
      ]
     },
     "execution_count": 63,
     "metadata": {},
     "output_type": "execute_result"
    }
   ],
   "source": [
    "{ k:v for k,v in data2.items() if v>90}"
   ]
  },
  {
   "cell_type": "markdown",
   "metadata": {},
   "source": [
    "1-2 为元组中的每个元素命名, 提高程序可读性\n",
    "方案1：类似枚举的类型，利用变量的名字来访问，列表拆包的模式\n",
    "方案2：用collections的namedtuple"
   ]
  },
  {
   "cell_type": "code",
   "execution_count": 67,
   "metadata": {},
   "outputs": [],
   "source": [
    "from collections import namedtuple"
   ]
  },
  {
   "cell_type": "code",
   "execution_count": 68,
   "metadata": {
    "collapsed": true
   },
   "outputs": [],
   "source": [
    "student = namedtuple('student',['name','age','sex','email'])"
   ]
  },
  {
   "cell_type": "code",
   "execution_count": 69,
   "metadata": {
    "collapsed": true
   },
   "outputs": [],
   "source": [
    "s = student('jim',16,'male','jim1212@139.com')"
   ]
  },
  {
   "cell_type": "code",
   "execution_count": 77,
   "metadata": {},
   "outputs": [
    {
     "data": {
      "text/plain": [
       "True"
      ]
     },
     "execution_count": 77,
     "metadata": {},
     "output_type": "execute_result"
    }
   ],
   "source": [
    "isinstance(s,tuple)"
   ]
  },
  {
   "cell_type": "markdown",
   "metadata": {},
   "source": [
    "1-3 统计序列中元素的出现频度\n",
    "用collections下的counter"
   ]
  },
  {
   "cell_type": "code",
   "execution_count": 83,
   "metadata": {
    "collapsed": true
   },
   "outputs": [],
   "source": [
    "from collections import Counter"
   ]
  },
  {
   "cell_type": "code",
   "execution_count": 79,
   "metadata": {},
   "outputs": [
    {
     "data": {
      "text/plain": [
       "[4,\n",
       " 10,\n",
       " 20,\n",
       " 17,\n",
       " 1,\n",
       " 14,\n",
       " 12,\n",
       " 16,\n",
       " 9,\n",
       " 19,\n",
       " 19,\n",
       " 10,\n",
       " 5,\n",
       " 7,\n",
       " 17,\n",
       " 18,\n",
       " 18,\n",
       " 8,\n",
       " 20,\n",
       " 8,\n",
       " 6,\n",
       " 11,\n",
       " 12,\n",
       " 11,\n",
       " 7,\n",
       " 15,\n",
       " 10,\n",
       " 7,\n",
       " 20,\n",
       " 12]"
      ]
     },
     "execution_count": 79,
     "metadata": {},
     "output_type": "execute_result"
    }
   ],
   "source": [
    "data3 = [randint(0,20) for _ in range(30)]\n",
    "data3"
   ]
  },
  {
   "cell_type": "code",
   "execution_count": 86,
   "metadata": {},
   "outputs": [
    {
     "data": {
      "text/plain": [
       "{-7: 0, -6: 0, -5: 0, -1: 0, 1: 0, 6: 0, 8: 0, 9: 0}"
      ]
     },
     "execution_count": 86,
     "metadata": {},
     "output_type": "execute_result"
    }
   ],
   "source": [
    "c1 = dict.fromkeys(data,0)# key是元素，0是init初始数量\n",
    "c1"
   ]
  },
  {
   "cell_type": "code",
   "execution_count": 88,
   "metadata": {
    "scrolled": true
   },
   "outputs": [
    {
     "data": {
      "text/plain": [
       "Counter({1: 1,\n",
       "         4: 1,\n",
       "         5: 1,\n",
       "         6: 1,\n",
       "         7: 3,\n",
       "         8: 2,\n",
       "         9: 1,\n",
       "         10: 3,\n",
       "         11: 2,\n",
       "         12: 3,\n",
       "         14: 1,\n",
       "         15: 1,\n",
       "         16: 1,\n",
       "         17: 2,\n",
       "         18: 2,\n",
       "         19: 2,\n",
       "         20: 3})"
      ]
     },
     "execution_count": 88,
     "metadata": {},
     "output_type": "execute_result"
    }
   ],
   "source": [
    "c2 = Counter(data3) #和c1一样类似,但可以显示数量\n",
    "c2"
   ]
  },
  {
   "cell_type": "markdown",
   "metadata": {},
   "source": [
    "1-4 字典排序\n",
    "sorted函数实现"
   ]
  },
  {
   "cell_type": "code",
   "execution_count": 103,
   "metadata": {},
   "outputs": [
    {
     "data": {
      "text/plain": [
       "{'a': 84, 'b': 96, 'c': 77, 'd': 62, 'e': 60, 'f': 64, 'g': 67}"
      ]
     },
     "execution_count": 103,
     "metadata": {},
     "output_type": "execute_result"
    }
   ],
   "source": [
    "data4 = { x: randint(60,100) for x in 'abcdefg'}\n",
    "data4"
   ]
  },
  {
   "cell_type": "code",
   "execution_count": 110,
   "metadata": {
    "scrolled": true
   },
   "outputs": [
    {
     "data": {
      "text/plain": [
       "[(60, 'e'), (62, 'd'), (64, 'f'), (67, 'g'), (77, 'c'), (84, 'a'), (96, 'b')]"
      ]
     },
     "execution_count": 110,
     "metadata": {},
     "output_type": "execute_result"
    }
   ],
   "source": [
    "sorted(zip(data4.values(),data4.keys()))"
   ]
  },
  {
   "cell_type": "code",
   "execution_count": 116,
   "metadata": {},
   "outputs": [
    {
     "data": {
      "text/plain": [
       "[('e', 60), ('d', 62), ('f', 64), ('g', 67), ('c', 77), ('a', 84), ('b', 96)]"
      ]
     },
     "execution_count": 116,
     "metadata": {},
     "output_type": "execute_result"
    }
   ],
   "source": [
    "sorted(data4.items(), key = lambda x:x[1])"
   ]
  },
  {
   "cell_type": "markdown",
   "metadata": {},
   "source": [
    "1-5 快速找到多个字典中的公共键(key) "
   ]
  },
  {
   "cell_type": "code",
   "execution_count": 145,
   "metadata": {},
   "outputs": [
    {
     "data": {
      "text/plain": [
       "({'a': 4, 'c': 1, 'e': 3, 'g': 3},\n",
       " {'a': 3, 'b': 1, 'c': 2, 'd': 1, 'e': 2, 'g': 1},\n",
       " {'a': 3, 'b': 4, 'c': 4, 'd': 4, 'e': 2, 'f': 4, 'g': 3},\n",
       " {'c': 2, 'e': 2, 'g': 1})"
      ]
     },
     "execution_count": 145,
     "metadata": {},
     "output_type": "execute_result"
    }
   ],
   "source": [
    "s1 = { x: randint(1,4) for x in sample('abcdefg',randint(3,7))}\n",
    "s2 = { x: randint(1,4) for x in sample('abcdefg',randint(3,7))}\n",
    "s3 = { x: randint(1,4) for x in sample('abcdefg',randint(3,7))}\n",
    "s4 = { x: randint(1,4) for x in sample('abcdefg',randint(3,7))}\n",
    "s1,s2,s3,s4"
   ]
  },
  {
   "cell_type": "code",
   "execution_count": 150,
   "metadata": {},
   "outputs": [
    {
     "data": {
      "text/plain": [
       "{'c', 'e', 'g'}"
      ]
     },
     "execution_count": 150,
     "metadata": {},
     "output_type": "execute_result"
    }
   ],
   "source": [
    "s1.keys() & s2.keys()& s3.keys() & s4.keys() # dict.keys() 类型是集合"
   ]
  },
  {
   "cell_type": "code",
   "execution_count": 156,
   "metadata": {
    "collapsed": true
   },
   "outputs": [],
   "source": [
    "from functools import reduce"
   ]
  },
  {
   "cell_type": "code",
   "execution_count": 157,
   "metadata": {},
   "outputs": [
    {
     "data": {
      "text/plain": [
       "{'c', 'e', 'g'}"
      ]
     },
     "execution_count": 157,
     "metadata": {},
     "output_type": "execute_result"
    }
   ],
   "source": [
    "reduce (lambda a,b: a & b, map(dict.keys,[s1,s2,s3,s4]))"
   ]
  },
  {
   "cell_type": "markdown",
   "metadata": {},
   "source": [
    "1-6 字典保持有序\n",
    "orderedDict"
   ]
  },
  {
   "cell_type": "code",
   "execution_count": 163,
   "metadata": {},
   "outputs": [
    {
     "data": {
      "text/plain": [
       "{'bob': (3, 40), 'jim': (1, 35), 'leo': (2, 37)}"
      ]
     },
     "execution_count": 163,
     "metadata": {},
     "output_type": "execute_result"
    }
   ],
   "source": [
    "d1 = {}\n",
    "d1['jim'] = (1,35)\n",
    "d1['leo'] = (2,37)\n",
    "d1['bob'] = (3,40)\n",
    "d1"
   ]
  },
  {
   "cell_type": "code",
   "execution_count": 162,
   "metadata": {},
   "outputs": [],
   "source": [
    "from collections import OrderedDict"
   ]
  },
  {
   "cell_type": "code",
   "execution_count": 164,
   "metadata": {},
   "outputs": [
    {
     "data": {
      "text/plain": [
       "OrderedDict([('jim', (1, 35)), ('leo', (2, 37)), ('bob', (3, 40))])"
      ]
     },
     "execution_count": 164,
     "metadata": {},
     "output_type": "execute_result"
    }
   ],
   "source": [
    "d2 = OrderedDict()\n",
    "d2['jim'] = (1,35)\n",
    "d2['leo'] = (2,37)\n",
    "d2['bob'] = (3,40)\n",
    "d2"
   ]
  },
  {
   "cell_type": "markdown",
   "metadata": {
    "collapsed": true
   },
   "source": [
    "1-7 实现用户的历史记录功能"
   ]
  },
  {
   "cell_type": "code",
   "execution_count": 165,
   "metadata": {
    "collapsed": true
   },
   "outputs": [],
   "source": [
    "from collections import deque\n",
    "import pickle #存储和读取对象"
   ]
  },
  {
   "cell_type": "code",
   "execution_count": 174,
   "metadata": {
    "collapsed": true
   },
   "outputs": [],
   "source": [
    "dq = deque([],5)"
   ]
  },
  {
   "cell_type": "code",
   "execution_count": 175,
   "metadata": {
    "scrolled": true
   },
   "outputs": [
    {
     "name": "stdout",
     "output_type": "stream",
     "text": [
      "deque([1], maxlen=5)\n",
      "deque([1, 2], maxlen=5)\n",
      "deque([1, 2, 3], maxlen=5)\n",
      "deque([1, 2, 3, 4], maxlen=5)\n",
      "deque([1, 2, 3, 4, 5], maxlen=5)\n",
      "deque([2, 3, 4, 5, 6], maxlen=5)\n",
      "deque([3, 4, 5, 6, 7], maxlen=5)\n",
      "deque([4, 5, 6, 7, 8], maxlen=5)\n",
      "deque([5, 6, 7, 8, 9], maxlen=5)\n"
     ]
    }
   ],
   "source": [
    "for x in range(1,10):\n",
    "    dq.append(x)\n",
    "    print(dq)"
   ]
  },
  {
   "cell_type": "markdown",
   "metadata": {},
   "source": [
    "### 2.对象迭代与反迭代技巧训练"
   ]
  },
  {
   "cell_type": "markdown",
   "metadata": {},
   "source": [
    "2-1 如何实现可迭代对象和迭代器对象；\n",
    "\n",
    "2-2 如何使用生成器函数实现可迭代对象 ；\n",
    "\n",
    "2-3 如何进行反向迭代以及如何实现反向迭代；\n",
    "\n",
    "2-4 如何对迭代器做切片操作 ；\n",
    "\n",
    "2-5 如何在一个for语句中迭代多个可迭代对象..."
   ]
  },
  {
   "cell_type": "markdown",
   "metadata": {},
   "source": [
    "### 3.字符串处理技巧训练"
   ]
  },
  {
   "cell_type": "markdown",
   "metadata": {},
   "source": [
    "3-1 如何拆分含有多种分隔符的字符串；\n",
    "\n",
    "3-2 如何判断字符串a是否以字符串b开头或结尾 ；\n",
    "\n",
    "3-3 如何调整字符串中文本的格式；\n",
    "\n",
    "3-4 如何将多个小字符串拼接成一个大的字符串 ；\n",
    "\n",
    "3-5 如何对字符串进行左, 右, 居中对齐；\n",
    "\n",
    "3-6 如何去掉字符串中不需要的字符..."
   ]
  },
  {
   "cell_type": "markdown",
   "metadata": {},
   "source": [
    "### 4.文件I/O高效处理技巧训练"
   ]
  },
  {
   "cell_type": "markdown",
   "metadata": {},
   "source": [
    "4-1 如何读写文本文件 ；\n",
    "\n",
    "4-2 如何处理二进制文件 ；\n",
    "\n",
    "4-3 如何设置文件的缓冲 ；\n",
    "\n",
    "4-4 如何将文件映射到内存 ；\n",
    "\n",
    "4-5 如何访问文件的状态 ；\n",
    "\n",
    "4-6 如何使用临时文件..."
   ]
  },
  {
   "cell_type": "markdown",
   "metadata": {},
   "source": [
    "### 5.csv，json，xml,excel高效解析与构建技巧训练"
   ]
  },
  {
   "cell_type": "markdown",
   "metadata": {},
   "source": [
    "5-1 如何读写csv数据 ；\n",
    "\n",
    "5-2 如何读写json数据；\n",
    "\n",
    "5-3 如何解析简单的xml文档 ；\n",
    "\n",
    "5-4 如何构建xml文档 ；\n",
    "\n",
    "5-5 如何读写excel文件。"
   ]
  },
  {
   "cell_type": "markdown",
   "metadata": {},
   "source": [
    "### 6.类与对象深度技术进阶训练"
   ]
  },
  {
   "cell_type": "markdown",
   "metadata": {},
   "source": [
    "6-1 如何派生内置不可变类型并修其改实例化行为 ；\n",
    "\n",
    "6-2 如何为创建大量实例节省内存 ；\n",
    "\n",
    "6-3 如何让对象支持上下文管理；\n",
    "\n",
    "6-4 如何创建可管理的对象属性；\n",
    "\n",
    "6-5 如何让类支持比较操作 ；\n",
    "\n",
    "6-6 如何使用描述符对实例属性做类型检查 ；\n",
    "\n",
    "6-7 如何在环状数据结构中管理内存 ；\n",
    "\n",
    "6-8 如何通过..."
   ]
  },
  {
   "cell_type": "markdown",
   "metadata": {},
   "source": [
    "### 7.多线程编程核心技术应用进阶训练"
   ]
  },
  {
   "cell_type": "markdown",
   "metadata": {},
   "source": [
    "7-1 如何使用多线程；\n",
    "\n",
    "7-2 如何线程间通信；\n",
    "\n",
    "7-3 如何在线程间进行事件通知；\n",
    "\n",
    "7-4 如何使用线程本地数据 ；\n",
    "\n",
    "7-5 如何使用线程池；\n",
    "\n",
    "7-6 如何使用多进程..."
   ]
  },
  {
   "cell_type": "markdown",
   "metadata": {},
   "source": [
    "### 8.装饰器使用技巧进阶训练"
   ]
  },
  {
   "cell_type": "markdown",
   "metadata": {},
   "source": [
    "8-1 如何使用函数装饰器；\n",
    "\n",
    "8-2 如何为被装饰的函数保存元数据；\n",
    "\n",
    "8-3 如何定义带参数的装饰器；\n",
    "\n",
    "8-4 如何实现属性可修改的函数装饰器 ；\n",
    "\n",
    "8-5 如何在类中定义装饰器 ；\n",
    "\n",
    "8-6 如何把装饰器定义成类。"
   ]
  }
 ],
 "metadata": {
  "kernelspec": {
   "display_name": "Python 3",
   "language": "python",
   "name": "python3"
  },
  "language_info": {
   "codemirror_mode": {
    "name": "ipython",
    "version": 3
   },
   "file_extension": ".py",
   "mimetype": "text/x-python",
   "name": "python",
   "nbconvert_exporter": "python",
   "pygments_lexer": "ipython3",
   "version": "3.6.2"
  }
 },
 "nbformat": 4,
 "nbformat_minor": 2
}
